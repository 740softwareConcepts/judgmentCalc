{
 "cells": [
  {
   "cell_type": "code",
   "execution_count": null,
   "metadata": {},
   "outputs": [],
   "source": [
    "sqlUser = 'admin'\n",
    "sqlPassword = 'Dnnbmstn1jrg'\n",
    "sqlHost = 'database-1.ctnfprzjtuyt.us-east-1.rds.amazonaws.com'\n",
    "\n",
    "import mysql.connector\n",
    "\n",
    "# Define the new database name\n",
    "new_database = 'DamagesDatabase'\n",
    "\n",
    "# Define the database connection parameters\n",
    "config = {\n",
    "    'user': sqlUser,\n",
    "    'password': sqlPassword,\n",
    "    'host': sqlHost,\n",
    "}\n",
    "\n",
    "# Create a connection to the MySQL server\n",
    "with mysql.connector.connect(**config) as conn:\n",
    "    # Create a cursor to execute queries\n",
    "    with conn.cursor() as cursor:\n",
    "        # Define the SQL query to create the new database\n",
    "        create_database_query = f\"CREATE DATABASE {new_database}\"\n",
    "\n",
    "        # Execute the query to create the new database\n",
    "        cursor.execute(create_database_query)\n",
    "\n",
    "# Print a message indicating the successful creation of the database\n",
    "print(f\"The database '{new_database}' has been created.\")\n"
   ]
  }
 ],
 "metadata": {
  "language_info": {
   "name": "python"
  }
 },
 "nbformat": 4,
 "nbformat_minor": 2
}
