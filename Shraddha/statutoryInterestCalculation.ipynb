from datetime import date, timedelta

def calculateStatutoryInterest(liabilityItemName, principalAmount, startOfSegment, endOfSegment):
    # Retrieve applicable interest rate from a table (you may need to implement this part)
    applicableInterestRate = getInterestRate(liabilityItemName)

    # Allow the user to manually enter additional points above the prime rate
    additionalPoints = float(input("Enter additional points above the prime rate (default is 0.0): ") or 0.0)

    # Calculate total interest for the segment
    totalInterest = calculateTotalInterest(principalAmount, applicableInterestRate + additionalPoints, startOfSegment, endOfSegment)

    # Update case details with interest information
    updateCaseDetails(liabilityItemName, principalAmount, startOfSegment, endOfSegment, totalInterest)

def getInterestRate(liabilityItemName):
    # Logic to retrieve the applicable interest rate from a table
    # Replace this with your actual implementation
    # Example: For simplicity, using a dictionary as a placeholder
    interestRates = {
        'liability1': 0.05,
        'liability2': 0.08,
        # Add more liability-item interest rates as needed
    }
    return interestRates.get(liabilityItemName, 0.0)  # Default to 0.0 if not found

def calculateTotalInterest(principalAmount, applicableInterestRate, startOfSegment, endOfSegment):
    # Calculate total interest for the segment
    # Replace this with your actual interest calculation logic
    # Example: Simple interest calculation
    days_in_segment = (endOfSegment - startOfSegment).days
    totalInterest = principalAmount * applicableInterestRate * (days_in_segment / 365)
    return totalInterest

def updateCaseDetails(liabilityItemName, principalAmount, startOfSegment, endOfSegment, totalInterest):
    # Logic to update case details with interest information
    # Replace this with your actual implementation
    print(f"Updating case details for {liabilityItemName}:")
    print(f"Principal Amount: {principalAmount}")
    print(f"Interest Rate: {getInterestRate(liabilityItemName)}")
    print(f"Start Date: {startOfSegment}")
    print(f"End Date: {endOfSegment}")
    print(f"Total Interest: {totalInterest}")
    print("Case details updated.")

# Example usage:
calculateStatutoryInterest('liability1', 1000.0, date(2023, 1, 1), date(2023, 12, 31))
